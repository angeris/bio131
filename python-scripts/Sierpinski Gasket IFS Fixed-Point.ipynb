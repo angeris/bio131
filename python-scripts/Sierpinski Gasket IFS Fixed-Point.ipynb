{
 "cells": [
  {
   "cell_type": "code",
   "execution_count": 1,
   "metadata": {
    "collapsed": false
   },
   "outputs": [
    {
     "name": "stdout",
     "output_type": "stream",
     "text": [
      "Populating the interactive namespace from numpy and matplotlib\n"
     ]
    }
   ],
   "source": [
    "%pylab inline"
   ]
  },
  {
   "cell_type": "code",
   "execution_count": 5,
   "metadata": {
    "collapsed": true
   },
   "outputs": [],
   "source": [
    "import scipy as sp\n",
    "from scipy.misc import toimage"
   ]
  },
  {
   "cell_type": "code",
   "execution_count": 33,
   "metadata": {
    "collapsed": true
   },
   "outputs": [],
   "source": [
    "SIZE = 256"
   ]
  },
  {
   "cell_type": "code",
   "execution_count": 34,
   "metadata": {
    "collapsed": false
   },
   "outputs": [],
   "source": [
    "points = array([[0,0],[1,0], [1/2,sqrt(3)/2]])\n",
    "new_points\n",
    "f_points = copy(points)\n",
    "\n",
    "for it in range(7):\n",
    "    new_points = points\n",
    "    for i_p in points:\n",
    "        for j_p in f_points:\n",
    "            new_points = np.vstack(((i_p+j_p)/2, new_points))\n",
    "    points = new_points\n",
    "    form_image(points, it)"
   ]
  },
  {
   "cell_type": "code",
   "execution_count": 32,
   "metadata": {
    "collapsed": false
   },
   "outputs": [],
   "source": [
    "def form_image(points, t):\n",
    "    img = np.zeros((SIZE+1, SIZE+1), dtype=float32)\n",
    "    \n",
    "    for i_p in points:\n",
    "        img[SIZE-1-int(i_p[1]*SIZE),int(i_p[0]*SIZE)] = 1\n",
    "\n",
    "    toimage(img).save('gasket_{}.jpg'.format(t))"
   ]
  },
  {
   "cell_type": "code",
   "execution_count": null,
   "metadata": {
    "collapsed": true
   },
   "outputs": [],
   "source": []
  }
 ],
 "metadata": {
  "kernelspec": {
   "display_name": "Python 3",
   "language": "python",
   "name": "python3"
  },
  "language_info": {
   "codemirror_mode": {
    "name": "ipython",
    "version": 3
   },
   "file_extension": ".py",
   "mimetype": "text/x-python",
   "name": "python",
   "nbconvert_exporter": "python",
   "pygments_lexer": "ipython3",
   "version": "3.5.1"
  }
 },
 "nbformat": 4,
 "nbformat_minor": 0
}
