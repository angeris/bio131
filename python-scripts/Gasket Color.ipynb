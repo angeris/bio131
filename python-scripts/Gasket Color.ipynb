{
 "cells": [
  {
   "cell_type": "code",
   "execution_count": 2,
   "metadata": {
    "collapsed": false
   },
   "outputs": [
    {
     "name": "stdout",
     "output_type": "stream",
     "text": [
      "Populating the interactive namespace from numpy and matplotlib\n"
     ]
    }
   ],
   "source": [
    "%pylab inline"
   ]
  },
  {
   "cell_type": "code",
   "execution_count": 40,
   "metadata": {
    "collapsed": true
   },
   "outputs": [],
   "source": [
    "from scipy.misc import toimage\n",
    "\n",
    "SIZE = 1024"
   ]
  },
  {
   "cell_type": "markdown",
   "metadata": {},
   "source": [
    "# Chaos game coloring of the Gasket"
   ]
  },
  {
   "cell_type": "markdown",
   "metadata": {},
   "source": [
    "## Normal Mappings"
   ]
  },
  {
   "cell_type": "code",
   "execution_count": 6,
   "metadata": {
    "collapsed": true
   },
   "outputs": [],
   "source": [
    "transform = array([[0,0],[1,0], [1/2,sqrt(3)/2]]).T;"
   ]
  },
  {
   "cell_type": "code",
   "execution_count": 12,
   "metadata": {
    "collapsed": false
   },
   "outputs": [],
   "source": [
    "img = np.zeros((SIZE+1, SIZE+1), dtype=float32)\n",
    "\n",
    "c = array([0,0]) #initial point\n",
    "\n",
    "for i in range(100000):\n",
    "    s = random.randint(3)\n",
    "    c = (c+transform[:,s])/2\n",
    "    img[SIZE-1-int(c[1]*SIZE),int(c[0]*SIZE)] = 1\n",
    "\n",
    "toimage(img).show()"
   ]
  },
  {
   "cell_type": "markdown",
   "metadata": {},
   "source": [
    "## Using color mappings (for transformation) and alpha (for counts)"
   ]
  },
  {
   "cell_type": "code",
   "execution_count": 111,
   "metadata": {
    "collapsed": false
   },
   "outputs": [],
   "source": [
    "img = np.zeros((4, SIZE+1, SIZE+1), dtype=float32)\n",
    "img[3,:,:].fill(1)\n",
    "\n",
    "colors = eye(3); #colors on RGB channels\n",
    "\n",
    "curr_col = [1,0,0] #we start on bottom-left which is R-channel\n",
    "\n",
    "c = array([0,0]) #initial point\n",
    "\n",
    "for i in range(100000):\n",
    "    s = random.randint(3)\n",
    "    c = (c+transform[:,s])/2\n",
    "    \n",
    "    row = SIZE-1-int(c[1]*SIZE)\n",
    "    col = int(c[0]*SIZE)\n",
    "    \n",
    "    curr_col = (curr_col+colors[s,:])/2\n",
    "    \n",
    "    img[0:3,row,col] = curr_col\n",
    "    img[3,row,col] += 1\n",
    "\n",
    "for i in range(0,3):\n",
    "    img[i,:,:] *= log(img[3,:,:])/img[3,:,:]\n",
    "        \n",
    "toimage(img[0:3,:,:]).show()"
   ]
  },
  {
   "cell_type": "markdown",
   "metadata": {},
   "source": [
    "## Let's get weird"
   ]
  },
  {
   "cell_type": "code",
   "execution_count": 141,
   "metadata": {
    "collapsed": true
   },
   "outputs": [],
   "source": [
    "def sphere_transform(p):\n",
    "    return p/(p @ p+0.001)\n",
    "\n",
    "def sin_transform(p):\n",
    "    return sin(p)\n",
    "\n",
    "def swirl_transform(p):\n",
    "    r2 = p @ p\n",
    "    x = p[0]\n",
    "    y = p[1]\n",
    "    return [x*sin(r2) - y*cos(r2), x*cos(r2) + y*sin(r2)]\n",
    "\n",
    "def horseshoe_transform(p):\n",
    "    r = sqrt(p @ p)\n",
    "    x = p[0]\n",
    "    y = p[1]\n",
    "    return (1/r)*array([(x-y)*(x+y), 2*x*y])\n",
    "\n",
    "def pow_transform(p):\n",
    "    x = p[0]\n",
    "    y = p[1]\n",
    "    r = sqrt(p @ p)\n",
    "    th = arctan2(x,y)\n",
    "    \n",
    "    return r**sin(th)*array([cos(th), sin(th)])\n",
    "\n",
    "def out_map(p):\n",
    "    return (p+[1,1])/2\n",
    "\n",
    "def id_map(p):\n",
    "    return p\n",
    "\n",
    "def lin_map(p, ext):\n",
    "    assert(alltrue(ext>0))\n",
    "    return (p+ext)/(2*ext)"
   ]
  },
  {
   "cell_type": "code",
   "execution_count": 123,
   "metadata": {
    "collapsed": true
   },
   "outputs": [],
   "source": [
    "t = 0"
   ]
  },
  {
   "cell_type": "code",
   "execution_count": 143,
   "metadata": {
    "collapsed": false
   },
   "outputs": [],
   "source": [
    "img = np.zeros((4, SIZE+1, SIZE+1), dtype=float32)\n",
    "img[3,:,:].fill(1)\n",
    "\n",
    "colors = eye(3); \n",
    "\n",
    "curr_col = [1,0,0] \n",
    "\n",
    "A = np.empty((3,2,2))\n",
    "g = np.empty((3,2))\n",
    "\n",
    "for i in range(3):\n",
    "    A[i,:,:] = random.randn(2,2)\n",
    "    \n",
    "c = random.rand(2)*2-1\n",
    "g = random.randn(3,2)\n",
    "# g[0,:] = [0,0]\n",
    "# g[1,:] = [1,0]\n",
    "# g[2,:] = [1/2,sqrt(3)/2]\n",
    "\n",
    "top_r = array([3,3])\n",
    "\n",
    "for i in range(1000000):\n",
    "    s = random.randint(3)\n",
    "    c = A[s,:,:] @ c + g[s,:]\n",
    "    c = pow_transform(c)\n",
    "    \n",
    "    c = maximum(c, -top_r)\n",
    "    c = minimum(c, top_r)\n",
    "    \n",
    "    p = lin_map(c, top_r)\n",
    "    \n",
    "    row = SIZE-1-int(p[1]*SIZE)\n",
    "    col = int(p[0]*SIZE)\n",
    "    \n",
    "    curr_col = (curr_col+colors[s,:])/2\n",
    "    \n",
    "    img[0:3,row,col] = curr_col\n",
    "    img[3,row,col] += 1\n",
    "\n",
    "for i in range(0,3):\n",
    "    img[i,:,:] *= log(img[3,:,:])/img[3,:,:]\n",
    "        \n",
    "toimage(img[0:3,:,:]).show()\n",
    "toimage(img[0:3,:,:]).save('pow_fractal{}.jpg'.format(t))\n",
    "t+=1"
   ]
  },
  {
   "cell_type": "code",
   "execution_count": null,
   "metadata": {
    "collapsed": true
   },
   "outputs": [],
   "source": []
  }
 ],
 "metadata": {
  "kernelspec": {
   "display_name": "Python 3",
   "language": "python",
   "name": "python3"
  },
  "language_info": {
   "codemirror_mode": {
    "name": "ipython",
    "version": 3
   },
   "file_extension": ".py",
   "mimetype": "text/x-python",
   "name": "python",
   "nbconvert_exporter": "python",
   "pygments_lexer": "ipython3",
   "version": "3.5.1"
  }
 },
 "nbformat": 4,
 "nbformat_minor": 0
}
